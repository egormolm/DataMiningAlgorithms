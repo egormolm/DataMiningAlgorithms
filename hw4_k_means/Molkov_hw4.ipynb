{
 "cells": [
  {
   "cell_type": "markdown",
   "metadata": {},
   "source": [
    "# Алгоритмы интеллектуальной обработки больших объемов данных\n",
    "## Домашнее задание №4 - Метод k-средних, предобработка признаков\n"
   ]
  },
  {
   "cell_type": "markdown",
   "metadata": {},
   "source": [
    "###### <hr\\>\n",
    "**Общая информация**\n",
    "\n",
    "**Срок сдачи:** 25 апреля 2018, 06:00 <br\\>\n",
    "**Штраф за опоздание:** -2 балла после 06:00 25 апреля, -4 баллов после 06:00 2 мая, -6 баллов после 06:00 9 мая\n",
    "\n",
    "При отправлении ДЗ указывайте фамилию в названии файла<br\\>\n",
    "\n",
    "Используйте данный Ipython Notebook при оформлении домашнего задания.\n",
    "\n",
    "**Штрафные баллы:**\n",
    "\n",
    "1. Невыполнение PEP8 -1 балл\n",
    "2. Отсутствие фамилии в имени скрипта (скрипт должен называться по аналогии со stroykova_hw4.ipynb) -1 балл\n",
    "3. Все строчки должны быть выполнены. Нужно, чтобы output команды можно было увидеть уже в git'е. В противном случае -1 балл\n",
    "4. При оформлении ДЗ нужно пользоваться данным файлом в качестве шаблона. Не нужно удалять и видоизменять написанный код и текст. В противном случае -1 балл\n",
    "<hr\\>"
   ]
  },
  {
   "cell_type": "code",
   "execution_count": 3,
   "metadata": {},
   "outputs": [],
   "source": [
    "import pandas as pd\n",
    "import numpy as np\n",
    "import matplotlib.pyplot as plt\n",
    "\n",
    "%matplotlib inline\n",
    "\n",
    "plt.style.use('ggplot')\n",
    "plt.rcParams['figure.figsize'] = (12,5)\n",
    "\n",
    "#%load_ext pycodestyle_magic"
   ]
  },
  {
   "cell_type": "markdown",
   "metadata": {},
   "source": [
    "# Имплементация K-means\n",
    "\n",
    "Пользуясь наработками выше, имплементируйте метод k-means.  \n",
    "При инициализации необходимо задавать количество кластеров, функцию расстояния между кластерами (для оригинального k-means - евклидово расстояние) и начальное состояние генератора случайных чисел.\n",
    "\n",
    "После обучения, среди атрибутов класса `Kmeans` должны появится\n",
    "* Метки кластеров для объектов\n",
    "* Координаты центройдов кластеров\n",
    "\n",
    "k-means - это алгоритм **кластеризации**, а не классификации, а посему метод `.predict()` в нем фактически не нужен, но он может возвращать метки ближайшего кластера для объектов."
   ]
  },
  {
   "cell_type": "markdown",
   "metadata": {},
   "source": [
    "###### Задание 1 (2 баллов)\n",
    "Имплементируйте метод k-means. Задание считается выполненным, если Ваша реализация работает быстрее реализации из sklearn.\n",
    "\n",
    "Теория для выполнения задания 2 и 3 остаётся на самостоятельное изучение. Теории немного и она совсем простая.\n",
    "\n",
    "###### Задание 2 (2 балла)\n",
    "Имплементируйте класс MiniBatchKMeans, который является классом наследником Kmeans.\n",
    "\n",
    "###### Задание 3 (2 балла)\n",
    "Превратите k-means в k-means++. Для этого нужно реализовать метод в классе Kmeans, который будет инициализировать более \"хорошие\" значения центроидов. Чтобы использовался метод k-means++, в параметр init необходимо передать строковое значение 'k-means' (по умолчанию 'random').\n",
    "\n",
    "###### Задание 4 (2 балла)\n",
    "В пункте \"Проверка корректности метода\" нужно нарисовать графики, которые показывают зависимость времени выполнения алгоритма от количества сэмплов. Графики должны быть  нарисованы для различных комбинаций реализаций алгоритма (k-means, k-means++, k-means с MiniBatchKMeans, k-means++ с MiniBatchKMeans). График достаточно построить на 5-10 точках.\n",
    "\n",
    "###### Задание 5 (2 балла)\n",
    "В пункте \"Применение K-means на реальных данных\" нужно сравнить различные реализации k-means (k-means, k-means++, k-means с MiniBatchKMeans, k-means++ с MiniBatchKMeans). После чего написать вывод, в котором должно быть объяснение того, почему один алгоритм оказался лучше остальных или почему не было выявлено лучшего алгоритма."
   ]
  },
  {
   "cell_type": "code",
   "execution_count": 278,
   "metadata": {},
   "outputs": [],
   "source": [
    "#%%pycodestyle\n",
    "\n",
    "\n",
    "class MyKmeans:\n",
    "\n",
    "    def __init__(self, k=2, metric='euclidean', max_iter=1000, random_state=None, init='random'):\n",
    "        \"\"\"\n",
    "        Инициализация метода\n",
    "        :k - количество кластеров\n",
    "        :metric - функция расстояния между объектами\n",
    "        :max_iter - максиальное количество итераций\n",
    "        :random_state - seed для инициализации генератора случайных чисел\n",
    "        \"\"\"\n",
    "\n",
    "        self.k = k\n",
    "        self.random_state = random_state\n",
    "        self.metric = metric\n",
    "        self.max_iter = max_iter\n",
    "        self.init = init\n",
    "        self.distance = self.__calc_metric\n",
    "\n",
    "    def __calc_metric(self, X, Y):\n",
    "        if self.metric == 'euclidean':\n",
    "            return np.sqrt(((X - Y) ** 2).sum(axis=1))\n",
    "\n",
    "    def k_means(self, X):\n",
    "        self.centroids = np.empty((self.k, X.shape[1]))\n",
    "        self.centroids[0] = X[np.random.choice(X.shape[0])]\n",
    "        dist = np.empty((self.k, X.shape[0]))\n",
    "        for i in range(1, self.k):\n",
    "            for j in range(self.k):\n",
    "                dist[j] = self.distance(X, self.centroids[i, :])\n",
    "            distances = np.min(dist, axis=0)\n",
    "            rands = np.random.uniform(0, 1) * distances.sum()\n",
    "            self.centroids[i-1] = X[np.cumsum(distances) > rands][0]\n",
    "\n",
    "    def fit(self, X, y=None):\n",
    "        \"\"\"\n",
    "        Процедура обучения k-means\n",
    "        \"\"\"\n",
    "\n",
    "        # Инициализация генератора случайных чисел\n",
    "        np.random.seed(self.random_state)\n",
    "\n",
    "        # Массив с метками кластеров для каждого объекта из X\n",
    "        self.labels = np.empty(X.shape[0])\n",
    "\n",
    "        # Массив с центройдами кластеров\n",
    "\n",
    "        ## Your Code Here\n",
    "\n",
    "        if self.init == 'random':\n",
    "            self.centroids = X[np.random.choice(X.shape[0], self.k)]\n",
    "        if self.init == 'k-means':\n",
    "            self.k_means(X)\n",
    "\n",
    "        centroids = np.empty((self.k, X.shape[1]))\n",
    "        distances = np.empty((self.k, X.shape[0]))\n",
    "        for i in range(self.max_iter):\n",
    "            for j in range(self.k):\n",
    "                distances[j, :] = self.distance(X, self.centroids[j, :])\n",
    "            self.labels = np.argmin(distances, axis=0)\n",
    "            for k in range(self.k):\n",
    "                m = X[self.labels == k, :]\n",
    "                centroids[k] = np.sum(m, axis=0) / m.shape[0]\n",
    "            if np.array_equal(centroids, self.centroids):\n",
    "                break\n",
    "            self.centroids = centroids\n",
    "\n",
    "        return self\n",
    "\n",
    "    def predict(self, X, y=None):\n",
    "        \"\"\"\n",
    "        Процедура предсказания кластера\n",
    "\n",
    "        Возвращает метку ближайшего кластера для каждого объекта\n",
    "        \"\"\"\n",
    "        dist = np.empty((self.k, X.shape[0]))\n",
    "        for i in range(self.k):\n",
    "            dist[i, :] = self.distance(X, self.centroids[i, :])\n",
    "        return np.argmin(dist, axis=0)\n",
    "\n",
    "\n",
    "class MiniBatchKMeans(MyKmeans):\n",
    "\n",
    "    def __init__(self, k=2, metric='euclidean', max_iter=1000,\n",
    "                random_state=None, init='random', batch_size=10):\n",
    "        super().__init__(k, metric, max_iter, random_state, init)\n",
    "        self.batch_size = batch_size\n",
    "\n",
    "    def fit(self, X, y=None):\n",
    "        # Инициализация генератора случайных чисел\n",
    "        np.random.seed(self.random_state)\n",
    "\n",
    "        # Массив с метками кластеров для каждого объекта из X\n",
    "        self.labels = np.empty(X.shape[0])\n",
    "\n",
    "        # Массив с центройдами кластеров\n",
    "        #self.centroids = np.empty((self.k, X.shape[1]))\n",
    "\n",
    "        if self.init == 'random':\n",
    "            self.centroids = X[np.random.choice(X.shape[0], self.k)]\n",
    "        if self.init == 'k-means':\n",
    "            self.k_means(X)\n",
    "\n",
    "        centroids = np.empty((self.k, X.shape[1]))\n",
    "        distances = np.empty((self.k, X.shape[0]))\n",
    "        for i in range(self.max_iter):\n",
    "            split = np.random.choice(np.arange(X.shape[0]), self.batch_size)\n",
    "            distances = np.empty((self.k, X[split].shape[0]))\n",
    "            for j in range(self.k):\n",
    "                distances[j, :] = self.distance(X[split], self.centroids[j, :])\n",
    "            self.labels[split] = np.argmin(distances, axis=0)\n",
    "            for k in range(self.k):\n",
    "                m = X[split][self.labels[split] == k, :]\n",
    "                centroids[k] = np.sum(m, axis=0) / m.shape[0]\n",
    "            if np.array_equal(centroids, self.centroids):\n",
    "                break\n",
    "            self.centroids = centroids\n",
    "        distances = np.empty((self.k, X.shape[0]))\n",
    "        for i in range(self.k):\n",
    "            distances[i, :] = self.distance(X, self.centroids[i, :])\n",
    "        self.labels = np.argmin(distances, axis=0)\n",
    "\n",
    "        return self\n"
   ]
  },
  {
   "cell_type": "markdown",
   "metadata": {},
   "source": [
    "### Проверка корректности метода\n",
    "\n",
    "Перед тем как применять алгоритм на реальных данных, нужно испытать его на простых \"игрушечных\" данных.\n",
    "\n",
    "Если алгоритм реализован правильно, то метод должен идеально разбивать на 3 кластера данные ниже. Проверьте это.\n",
    "\n",
    "ВНИМАНИЕ! Проверка должна быть осуществлена на всех реализациях, иначе реализация не будет зачтена!"
   ]
  },
  {
   "cell_type": "code",
   "execution_count": 242,
   "metadata": {},
   "outputs": [],
   "source": [
    "from sklearn.datasets import make_blobs"
   ]
  },
  {
   "cell_type": "code",
   "execution_count": 291,
   "metadata": {},
   "outputs": [],
   "source": [
    "X, y = make_blobs(n_samples=100, n_features=2, centers=3, cluster_std=1, \n",
    "           center_box=(-10.0, 10.0), shuffle=False, random_state=1234)"
   ]
  },
  {
   "cell_type": "code",
   "execution_count": 217,
   "metadata": {},
   "outputs": [
    {
     "data": {
      "text/plain": [
       "<matplotlib.collections.PathCollection at 0x131158549e8>"
      ]
     },
     "execution_count": 217,
     "metadata": {},
     "output_type": "execute_result"
    },
    {
     "data": {
      "image/png": "[encoded data removed]",
      "text/plain": [
       "<matplotlib.figure.Figure at 0x131159660b8>"
      ]
     },
     "metadata": {},
     "output_type": "display_data"
    }
   ],
   "source": [
    "plt.scatter(X[:,0], X[:, 1], c=y)"
   ]
  },
  {
   "cell_type": "markdown",
   "metadata": {},
   "source": [
    "Проверьте Вашу имплементацию на простых данных (без этого пункта ДЗ не считается выполненным).   \n",
    "КОММЕНТАРИИ НЕ СТИРАТЬ!"
   ]
  },
  {
   "cell_type": "code",
   "execution_count": 218,
   "metadata": {},
   "outputs": [
    {
     "data": {
      "text/plain": [
       "<matplotlib.collections.PathCollection at 0x13115746240>"
      ]
     },
     "execution_count": 218,
     "metadata": {},
     "output_type": "execute_result"
    },
    {
     "data": {
      "image/png": "[encoded data removed]",
      "text/plain": [
       "<matplotlib.figure.Figure at 0x13115966160>"
      ]
     },
     "metadata": {},
     "output_type": "display_data"
    }
   ],
   "source": [
    "## Работоспособность MyKmeans\n",
    "clf = MyKmeans(k=3)\n",
    "clf.fit(X)\n",
    "y_pred = clf.predict(X)\n",
    "plt.scatter(X[:,0], X[:, 1], c=y_pred)\n",
    "plt.scatter(clf.centroids[:, 0], clf.centroids[:, 1])"
   ]
  },
  {
   "cell_type": "code",
   "execution_count": 223,
   "metadata": {},
   "outputs": [
    {
     "data": {
      "text/plain": [
       "<matplotlib.collections.PathCollection at 0x13115495748>"
      ]
     },
     "execution_count": 223,
     "metadata": {},
     "output_type": "execute_result"
    },
    {
     "data": {
      "image/png": "[encoded data removed]",
      "text/plain": [
       "<matplotlib.figure.Figure at 0x13115948390>"
      ]
     },
     "metadata": {},
     "output_type": "display_data"
    }
   ],
   "source": [
    "## Работоспособность MyKmeans++\n",
    "clf = MyKmeans(k=3, init='k-means')\n",
    "clf.fit(X)\n",
    "y_pred = clf.predict(X)\n",
    "plt.scatter(X[:,0], X[:, 1], c=y_pred)\n",
    "plt.scatter(clf.centroids[:, 0], clf.centroids[:, 1])"
   ]
  },
  {
   "cell_type": "code",
   "execution_count": 253,
   "metadata": {},
   "outputs": [
    {
     "data": {
      "text/plain": [
       "<matplotlib.collections.PathCollection at 0x13115718668>"
      ]
     },
     "execution_count": 253,
     "metadata": {},
     "output_type": "execute_result"
    },
    {
     "data": {
      "image/png": "[encoded data removed]",
      "text/plain": [
       "<matplotlib.figure.Figure at 0x131198be438>"
      ]
     },
     "metadata": {},
     "output_type": "display_data"
    }
   ],
   "source": [
    "## Работоспособность MyKmeans с MiniBatchMyKmeans\n",
    "clf = MiniBatchKMeans(k=3, batch_size=20)\n",
    "clf.fit(X)\n",
    "\n",
    "y_pred = clf.predict(X)\n",
    "plt.scatter(X[:,0], X[:, 1], c=y_pred)\n",
    "plt.scatter(clf.centroids[:, 0], clf.centroids[:, 1])"
   ]
  },
  {
   "cell_type": "code",
   "execution_count": 303,
   "metadata": {},
   "outputs": [
    {
     "data": {
      "text/plain": [
       "<matplotlib.collections.PathCollection at 0x1311bb60f28>"
      ]
     },
     "execution_count": 303,
     "metadata": {},
     "output_type": "execute_result"
    },
    {
     "data": {
      "image/png": "[encoded data removed]",
      "text/plain": [
       "<matplotlib.figure.Figure at 0x1311b9088d0>"
      ]
     },
     "metadata": {},
     "output_type": "display_data"
    }
   ],
   "source": [
    "## Работоспособность MyKmeans++ с MiniBatchMyKmeans\n",
    "clf = MiniBatchKMeans(k=3, batch_size=20)\n",
    "clf.fit(X)\n",
    "#y_pred = clf.labels\n",
    "y_pred = clf.predict(X)\n",
    "plt.scatter(X[:,0], X[:, 1], c=y_pred)\n",
    "plt.scatter(clf.centroids[:, 0], clf.centroids[:, 1])"
   ]
  },
  {
   "cell_type": "code",
   "execution_count": 304,
   "metadata": {},
   "outputs": [],
   "source": [
    "import time\n",
    "from sklearn.cluster import KMeans"
   ]
  },
  {
   "cell_type": "code",
   "execution_count": 305,
   "metadata": {},
   "outputs": [],
   "source": [
    "X, y = make_blobs(n_samples=100000, n_features=2, centers=3, cluster_std=1, \n",
    "           center_box=(-10.0, 10.0), shuffle=False, random_state=1234)"
   ]
  },
  {
   "cell_type": "code",
   "execution_count": 257,
   "metadata": {},
   "outputs": [],
   "source": [
    "## Время выполнения алгоритма Kmeans из sklearn\n",
    "clf = KMeans(n_clusters=3)"
   ]
  },
  {
   "cell_type": "code",
   "execution_count": 258,
   "metadata": {},
   "outputs": [
    {
     "name": "stdout",
     "output_type": "stream",
     "text": [
      "Wall time: 507 ms\n"
     ]
    },
    {
     "data": {
      "text/plain": [
       "KMeans(algorithm='auto', copy_x=True, init='k-means++', max_iter=300,\n",
       "    n_clusters=3, n_init=10, n_jobs=1, precompute_distances='auto',\n",
       "    random_state=None, tol=0.0001, verbose=0)"
      ]
     },
     "execution_count": 258,
     "metadata": {},
     "output_type": "execute_result"
    }
   ],
   "source": [
    "%time clf.fit(X)"
   ]
  },
  {
   "cell_type": "code",
   "execution_count": 259,
   "metadata": {},
   "outputs": [],
   "source": [
    "## Время выполнения алгоритма MyKmeans\n",
    "clf = MyKmeans(k=3)"
   ]
  },
  {
   "cell_type": "code",
   "execution_count": 260,
   "metadata": {},
   "outputs": [
    {
     "name": "stdout",
     "output_type": "stream",
     "text": [
      "Wall time: 61 ms\n"
     ]
    },
    {
     "data": {
      "text/plain": [
       "<__main__.MyKmeans at 0x1311a68a630>"
      ]
     },
     "execution_count": 260,
     "metadata": {},
     "output_type": "execute_result"
    }
   ],
   "source": [
    "%time clf.fit(X)"
   ]
  },
  {
   "cell_type": "code",
   "execution_count": 261,
   "metadata": {},
   "outputs": [],
   "source": [
    "## Время выполнения алгоритма MyKmeans++\n",
    "clf = MyKmeans(k=3, init='k-means')"
   ]
  },
  {
   "cell_type": "code",
   "execution_count": 262,
   "metadata": {},
   "outputs": [
    {
     "name": "stdout",
     "output_type": "stream",
     "text": [
      "Wall time: 104 ms\n"
     ]
    },
    {
     "data": {
      "text/plain": [
       "<__main__.MyKmeans at 0x1311a663e10>"
      ]
     },
     "execution_count": 262,
     "metadata": {},
     "output_type": "execute_result"
    }
   ],
   "source": [
    "%time clf.fit(X)"
   ]
  },
  {
   "cell_type": "code",
   "execution_count": 263,
   "metadata": {},
   "outputs": [],
   "source": [
    "## Время выполнения алгоритма MyKmeans с MiniBatchMyKmeans\n",
    "clf = MiniBatchKMeans(k=3, batch_size=100)"
   ]
  },
  {
   "cell_type": "code",
   "execution_count": 264,
   "metadata": {},
   "outputs": [
    {
     "name": "stdout",
     "output_type": "stream",
     "text": [
      "Wall time: 41 ms\n"
     ]
    },
    {
     "data": {
      "text/plain": [
       "<__main__.MiniBatchKMeans at 0x1311a663a58>"
      ]
     },
     "execution_count": 264,
     "metadata": {},
     "output_type": "execute_result"
    }
   ],
   "source": [
    "%time clf.fit(X)"
   ]
  },
  {
   "cell_type": "code",
   "execution_count": 265,
   "metadata": {},
   "outputs": [],
   "source": [
    "## Время выполнения алгоритма  MyKmeans++ с MiniBatchMyKmeans\n",
    "clf = MiniBatchKMeans(k=3, batch_size=100, init='k-means')"
   ]
  },
  {
   "cell_type": "code",
   "execution_count": 266,
   "metadata": {},
   "outputs": [
    {
     "name": "stdout",
     "output_type": "stream",
     "text": [
      "Wall time: 75.1 ms\n"
     ]
    },
    {
     "data": {
      "text/plain": [
       "<__main__.MiniBatchKMeans at 0x1311a68a4a8>"
      ]
     },
     "execution_count": 266,
     "metadata": {},
     "output_type": "execute_result"
    }
   ],
   "source": [
    "%time clf.fit(X)"
   ]
  },
  {
   "cell_type": "code",
   "execution_count": 267,
   "metadata": {},
   "outputs": [],
   "source": [
    "import time"
   ]
  },
  {
   "cell_type": "code",
   "execution_count": 269,
   "metadata": {},
   "outputs": [
    {
     "data": {
      "image/png": "[encoded data removed]",
      "text/plain": [
       "<matplotlib.figure.Figure at 0x1311af5f208>"
      ]
     },
     "metadata": {},
     "output_type": "display_data"
    }
   ],
   "source": [
    "sizes = [1000, 5000, 10000, 25000, 50000, 100000]\n",
    "t = []\n",
    "times = []\n",
    "clfs = [KMeans(n_clusters=3), MyKmeans(k=3), MyKmeans(k=3, init='k-means')\n",
    "          , MiniBatchKMeans(k=3, batch_size=100), MiniBatchKMeans(k=3, batch_size=100, init='k-means')]\n",
    "for j, clf in enumerate(clfs):\n",
    "    t.clear()\n",
    "    for i, size in enumerate(sizes):\n",
    "        X, y = make_blobs(n_samples=size, n_features=2, centers=3, cluster_std=1, \n",
    "           center_box=(-10.0, 10.0), shuffle=False, random_state=1234)\n",
    "        start = time.time()\n",
    "        clf.fit(X)\n",
    "        end = time.time() - start\n",
    "        t.append(end)\n",
    "    times.append(t.copy())\n",
    "plt.plot(sizes, times[0], label='sklearn')\n",
    "plt.plot(sizes, times[1], label='kmeans')\n",
    "plt.plot(sizes, times[2], label='kmeans++')\n",
    "plt.plot(sizes, times[3], label='mimbatch with kmeans')\n",
    "plt.plot(sizes, times[4], label='mimbatch with kmeans++')\n",
    "plt.legend()\n",
    "plt.xlabel('size')\n",
    "plt.ylabel('time')\n",
    "plt.show()"
   ]
  },
  {
   "cell_type": "markdown",
   "metadata": {},
   "source": [
    "# Применение K-means на реальных данных"
   ]
  },
  {
   "cell_type": "markdown",
   "metadata": {},
   "source": [
    "Загрузите [данные](https://github.com/brenden17/sklearnlab/blob/master/facebook/snsdata.csv) в которых содержится описание интересов профилей учеников старшей школы США.  (без этого пункта задание не считается выполненным).   \n",
    "ВНИМАНИЕ! Проверка должна быть осуществлена на всех реализациях, иначе реализация не будет зачтена!"
   ]
  },
  {
   "cell_type": "code",
   "execution_count": 270,
   "metadata": {},
   "outputs": [
    {
     "data": {
      "text/html": [
       "<div>\n",
       "<style scoped>\n",
       "    .dataframe tbody tr th:only-of-type {\n",
       "        vertical-align: middle;\n",
       "    }\n",
       "\n",
       "    .dataframe tbody tr th {\n",
       "        vertical-align: top;\n",
       "    }\n",
       "\n",
       "    .dataframe thead th {\n",
       "        text-align: right;\n",
       "    }\n",
       "</style>\n",
       "<table border=\"1\" class=\"dataframe\">\n",
       "  <thead>\n",
       "    <tr style=\"text-align: right;\">\n",
       "      <th></th>\n",
       "      <th>gradyear</th>\n",
       "      <th>gender</th>\n",
       "      <th>age</th>\n",
       "      <th>friends</th>\n",
       "      <th>basketball</th>\n",
       "      <th>football</th>\n",
       "      <th>soccer</th>\n",
       "      <th>softball</th>\n",
       "      <th>volleyball</th>\n",
       "      <th>swimming</th>\n",
       "      <th>...</th>\n",
       "      <th>blonde</th>\n",
       "      <th>mall</th>\n",
       "      <th>shopping</th>\n",
       "      <th>clothes</th>\n",
       "      <th>hollister</th>\n",
       "      <th>abercrombie</th>\n",
       "      <th>die</th>\n",
       "      <th>death</th>\n",
       "      <th>drunk</th>\n",
       "      <th>drugs</th>\n",
       "    </tr>\n",
       "  </thead>\n",
       "  <tbody>\n",
       "    <tr>\n",
       "      <th>0</th>\n",
       "      <td>2006</td>\n",
       "      <td>M</td>\n",
       "      <td>18.982</td>\n",
       "      <td>7</td>\n",
       "      <td>0</td>\n",
       "      <td>0</td>\n",
       "      <td>0</td>\n",
       "      <td>0</td>\n",
       "      <td>0</td>\n",
       "      <td>0</td>\n",
       "      <td>...</td>\n",
       "      <td>0</td>\n",
       "      <td>0</td>\n",
       "      <td>0</td>\n",
       "      <td>0</td>\n",
       "      <td>0</td>\n",
       "      <td>0</td>\n",
       "      <td>0</td>\n",
       "      <td>0</td>\n",
       "      <td>0</td>\n",
       "      <td>0</td>\n",
       "    </tr>\n",
       "    <tr>\n",
       "      <th>1</th>\n",
       "      <td>2006</td>\n",
       "      <td>F</td>\n",
       "      <td>18.801</td>\n",
       "      <td>0</td>\n",
       "      <td>0</td>\n",
       "      <td>1</td>\n",
       "      <td>0</td>\n",
       "      <td>0</td>\n",
       "      <td>0</td>\n",
       "      <td>0</td>\n",
       "      <td>...</td>\n",
       "      <td>0</td>\n",
       "      <td>1</td>\n",
       "      <td>0</td>\n",
       "      <td>0</td>\n",
       "      <td>0</td>\n",
       "      <td>0</td>\n",
       "      <td>0</td>\n",
       "      <td>0</td>\n",
       "      <td>0</td>\n",
       "      <td>0</td>\n",
       "    </tr>\n",
       "    <tr>\n",
       "      <th>2</th>\n",
       "      <td>2006</td>\n",
       "      <td>M</td>\n",
       "      <td>18.335</td>\n",
       "      <td>69</td>\n",
       "      <td>0</td>\n",
       "      <td>1</td>\n",
       "      <td>0</td>\n",
       "      <td>0</td>\n",
       "      <td>0</td>\n",
       "      <td>0</td>\n",
       "      <td>...</td>\n",
       "      <td>0</td>\n",
       "      <td>0</td>\n",
       "      <td>0</td>\n",
       "      <td>0</td>\n",
       "      <td>0</td>\n",
       "      <td>0</td>\n",
       "      <td>0</td>\n",
       "      <td>1</td>\n",
       "      <td>0</td>\n",
       "      <td>0</td>\n",
       "    </tr>\n",
       "    <tr>\n",
       "      <th>3</th>\n",
       "      <td>2006</td>\n",
       "      <td>F</td>\n",
       "      <td>18.875</td>\n",
       "      <td>0</td>\n",
       "      <td>0</td>\n",
       "      <td>0</td>\n",
       "      <td>0</td>\n",
       "      <td>0</td>\n",
       "      <td>0</td>\n",
       "      <td>0</td>\n",
       "      <td>...</td>\n",
       "      <td>0</td>\n",
       "      <td>0</td>\n",
       "      <td>0</td>\n",
       "      <td>0</td>\n",
       "      <td>0</td>\n",
       "      <td>0</td>\n",
       "      <td>0</td>\n",
       "      <td>0</td>\n",
       "      <td>0</td>\n",
       "      <td>0</td>\n",
       "    </tr>\n",
       "    <tr>\n",
       "      <th>4</th>\n",
       "      <td>2006</td>\n",
       "      <td>NaN</td>\n",
       "      <td>18.995</td>\n",
       "      <td>10</td>\n",
       "      <td>0</td>\n",
       "      <td>0</td>\n",
       "      <td>0</td>\n",
       "      <td>0</td>\n",
       "      <td>0</td>\n",
       "      <td>0</td>\n",
       "      <td>...</td>\n",
       "      <td>0</td>\n",
       "      <td>0</td>\n",
       "      <td>2</td>\n",
       "      <td>0</td>\n",
       "      <td>0</td>\n",
       "      <td>0</td>\n",
       "      <td>0</td>\n",
       "      <td>0</td>\n",
       "      <td>1</td>\n",
       "      <td>1</td>\n",
       "    </tr>\n",
       "  </tbody>\n",
       "</table>\n",
       "<p>5 rows × 40 columns</p>\n",
       "</div>"
      ],
      "text/plain": [
       "   gradyear gender     age  friends  basketball  football  soccer  softball  \\\n",
       "0      2006      M  18.982        7           0         0       0         0   \n",
       "1      2006      F  18.801        0           0         1       0         0   \n",
       "2      2006      M  18.335       69           0         1       0         0   \n",
       "3      2006      F  18.875        0           0         0       0         0   \n",
       "4      2006    NaN  18.995       10           0         0       0         0   \n",
       "\n",
       "   volleyball  swimming  ...    blonde  mall  shopping  clothes  hollister  \\\n",
       "0           0         0  ...         0     0         0        0          0   \n",
       "1           0         0  ...         0     1         0        0          0   \n",
       "2           0         0  ...         0     0         0        0          0   \n",
       "3           0         0  ...         0     0         0        0          0   \n",
       "4           0         0  ...         0     0         2        0          0   \n",
       "\n",
       "   abercrombie  die  death  drunk  drugs  \n",
       "0            0    0      0      0      0  \n",
       "1            0    0      0      0      0  \n",
       "2            0    0      1      0      0  \n",
       "3            0    0      0      0      0  \n",
       "4            0    0      0      1      1  \n",
       "\n",
       "[5 rows x 40 columns]"
      ]
     },
     "execution_count": 270,
     "metadata": {},
     "output_type": "execute_result"
    }
   ],
   "source": [
    "df_sns = pd.read_csv('snsdata.csv', sep=',')\n",
    "df_sns.head()"
   ]
  },
  {
   "cell_type": "markdown",
   "metadata": {},
   "source": [
    "Данные устроены так: \n",
    "* Год выпуска\n",
    "* Пол\n",
    "* Возраст\n",
    "* Количество друзей\n",
    "* 36 ключевых слов, которые встречаются в профилe facebook (интересы, сообщества, встречи)"
   ]
  },
  {
   "cell_type": "markdown",
   "metadata": {},
   "source": [
    "* Удалите все признаки кроме 36 ключевых слов.\n",
    "* Нормализуйте данные - из каждого столбца вычтите его среднее значение и поделите на стандартное отклонение.\n",
    "* Используйте метод k-means чтобы выделить 9 кластеров\n",
    "* Попробуйте проинтерпретировать каждый кластер проанализировав полученные центройды (Некоторые кластеры могут быть очень большие и очень маленькие - плохо интерпретируются)   \n",
    "КОММЕНТАРИИ НЕ СТИРАТЬ!"
   ]
  },
  {
   "cell_type": "code",
   "execution_count": 271,
   "metadata": {},
   "outputs": [],
   "source": [
    "#оставляем 36 ключевых слов\n",
    "df_sns = df_sns.drop(columns=['gradyear', 'gender', 'age', 'friends'])"
   ]
  },
  {
   "cell_type": "code",
   "execution_count": 272,
   "metadata": {},
   "outputs": [],
   "source": [
    "#вычитаем среднее и делим на std\n",
    "X = df_sns\n",
    "X = (X - X.mean(axis=0)) / X.std(axis=0)"
   ]
  },
  {
   "cell_type": "code",
   "execution_count": 273,
   "metadata": {},
   "outputs": [],
   "source": [
    "k = 9\n",
    "batch_size = 1000"
   ]
  },
  {
   "cell_type": "code",
   "execution_count": 274,
   "metadata": {},
   "outputs": [
    {
     "name": "stdout",
     "output_type": "stream",
     "text": [
      "1 claster size 421\n",
      "Index(['jesus', 'volleyball', 'soccer', 'bible', 'church', 'abercrombie',\n",
      "       'cheerleading', 'tennis', 'softball', 'swimming', 'hollister', 'hot',\n",
      "       'mall', 'shopping', 'baseball', 'marching', 'god', 'basketball',\n",
      "       'dress', 'football', 'cute', 'blonde', 'death', 'sexy', 'clothes',\n",
      "       'dance', 'sports', 'drugs', 'band', 'die', 'drunk', 'rock', 'hair',\n",
      "       'kissed', 'music', 'sex'],\n",
      "      dtype='object')\n",
      "2 claster size 338\n",
      "Index(['marching', 'jesus', 'band', 'church', 'bible', 'baseball', 'softball',\n",
      "       'soccer', 'death', 'blonde', 'god', 'drunk', 'sex', 'sexy', 'rock',\n",
      "       'die', 'dance', 'music', 'drugs', 'sports', 'basketball', 'dress',\n",
      "       'tennis', 'football', 'kissed', 'swimming', 'volleyball', 'hot', 'cute',\n",
      "       'cheerleading', 'mall', 'clothes', 'hair', 'shopping', 'hollister',\n",
      "       'abercrombie'],\n",
      "      dtype='object')\n",
      "3 claster size 3983\n",
      "Index(['sports', 'soccer', 'drugs', 'marching', 'band', 'kissed', 'sex',\n",
      "       'baseball', 'mall', 'death', 'bible', 'blonde', 'rock', 'jesus',\n",
      "       'tennis', 'drunk', 'basketball', 'abercrombie', 'football', 'god',\n",
      "       'softball', 'volleyball', 'clothes', 'hair', 'music', 'hollister',\n",
      "       'sexy', 'swimming', 'church', 'hot', 'cheerleading', 'dress', 'dance',\n",
      "       'die', 'cute', 'shopping'],\n",
      "      dtype='object')\n",
      "4 claster size 18466\n",
      "Index(['shopping', 'sports', 'cute', 'mall', 'hair', 'clothes', 'die',\n",
      "       'soccer', 'music', 'kissed', 'dance', 'basketball', 'football', 'dress',\n",
      "       'hollister', 'abercrombie', 'rock', 'drugs', 'hot', 'death', 'band',\n",
      "       'church', 'sex', 'swimming', 'god', 'drunk', 'cheerleading', 'softball',\n",
      "       'sexy', 'volleyball', 'baseball', 'marching', 'jesus', 'bible',\n",
      "       'tennis', 'blonde'],\n",
      "      dtype='object')\n",
      "5 claster size 388\n",
      "Index(['soccer', 'tennis', 'marching', 'hollister', 'softball', 'baseball',\n",
      "       'cheerleading', 'hot', 'football', 'shopping', 'bible', 'basketball',\n",
      "       'blonde', 'volleyball', 'abercrombie', 'swimming', 'band', 'jesus',\n",
      "       'dress', 'god', 'church', 'rock', 'sports', 'cute', 'clothes', 'music',\n",
      "       'death', 'dance', 'mall', 'sex', 'kissed', 'sexy', 'die', 'hair',\n",
      "       'drunk', 'drugs'],\n",
      "      dtype='object')\n",
      "6 claster size 1292\n",
      "Index(['soccer', 'marching', 'volleyball', 'tennis', 'cheerleading', 'blonde',\n",
      "       'baseball', 'sports', 'softball', 'band', 'bible', 'football',\n",
      "       'abercrombie', 'jesus', 'shopping', 'basketball', 'mall', 'hollister',\n",
      "       'swimming', 'church', 'sexy', 'drugs', 'cute', 'dance', 'hot', 'god',\n",
      "       'music', 'rock', 'drunk', 'dress', 'sex', 'die', 'hair', 'death',\n",
      "       'kissed', 'clothes'],\n",
      "      dtype='object')\n",
      "7 claster size 1668\n",
      "Index(['sports', 'drugs', 'kissed', 'soccer', 'die', 'sex', 'baseball',\n",
      "       'abercrombie', 'blonde', 'drunk', 'death', 'tennis', 'volleyball',\n",
      "       'softball', 'sexy', 'hollister', 'swimming', 'hair', 'rock',\n",
      "       'cheerleading', 'basketball', 'clothes', 'football', 'music', 'dance',\n",
      "       'bible', 'hot', 'cute', 'shopping', 'jesus', 'dress', 'god', 'church',\n",
      "       'marching', 'band', 'mall'],\n",
      "      dtype='object')\n",
      "8 claster size 2521\n",
      "Index(['mall', 'cute', 'kissed', 'shopping', 'drugs', 'clothes', 'hair',\n",
      "       'marching', 'abercrombie', 'die', 'hollister', 'sex', 'death', 'band',\n",
      "       'dress', 'drunk', 'cheerleading', 'sexy', 'dance', 'hot', 'soccer',\n",
      "       'blonde', 'rock', 'jesus', 'bible', 'church', 'god', 'music',\n",
      "       'swimming', 'tennis', 'volleyball', 'softball', 'football', 'baseball',\n",
      "       'basketball', 'sports'],\n",
      "      dtype='object')\n",
      "9 claster size 923\n",
      "Index(['marching', 'clothes', 'kissed', 'drugs', 'abercrombie', 'band',\n",
      "       'drunk', 'mall', 'death', 'dance', 'die', 'dress', 'god', 'sex',\n",
      "       'softball', 'bible', 'hair', 'hollister', 'music', 'jesus', 'tennis',\n",
      "       'sexy', 'blonde', 'church', 'cute', 'hot', 'sports', 'cheerleading',\n",
      "       'volleyball', 'shopping', 'swimming', 'baseball', 'basketball',\n",
      "       'football', 'rock', 'soccer'],\n",
      "      dtype='object')\n",
      "Wall time: 393 ms\n"
     ]
    }
   ],
   "source": [
    "%%time\n",
    "## MyKMeans\n",
    "clf = MyKmeans(k=k)\n",
    "clf.fit(X.values)\n",
    "y_pred = clf.predict(X.values)\n",
    "\n",
    "for i, centr in enumerate(clf.centroids):\n",
    "    print(i+1, 'claster', 'size', clf.labels[clf.labels == i].size)\n",
    "    print(X.columns[np.argsort(centr)][:])"
   ]
  },
  {
   "cell_type": "code",
   "execution_count": 286,
   "metadata": {},
   "outputs": [
    {
     "name": "stdout",
     "output_type": "stream",
     "text": [
      "1 claster size 4363\n",
      "Index(['die', 'sexy', 'bible', 'baseball', 'hot', 'kissed', 'sex', 'church',\n",
      "       'drugs', 'drunk', 'jesus', 'blonde', 'basketball', 'god', 'sports',\n",
      "       'soccer', 'hair', 'softball', 'volleyball', 'cheerleading', 'tennis',\n",
      "       'death', 'abercrombie', 'football', 'hollister', 'cute', 'clothes',\n",
      "       'mall', 'swimming', 'dress', 'rock', 'marching', 'shopping', 'band',\n",
      "       'dance', 'music'],\n",
      "      dtype='object')\n",
      "2 claster size 627\n",
      "Index(['bible', 'dress', 'marching', 'death', 'band', 'die', 'hot', 'jesus',\n",
      "       'god', 'drunk', 'sexy', 'hollister', 'dance', 'abercrombie', 'shopping',\n",
      "       'tennis', 'drugs', 'music', 'blonde', 'church', 'kissed', 'swimming',\n",
      "       'sex', 'cute', 'clothes', 'mall', 'cheerleading', 'soccer', 'hair',\n",
      "       'volleyball', 'softball', 'rock', 'sports', 'football', 'basketball',\n",
      "       'baseball'],\n",
      "      dtype='object')\n",
      "3 claster size 19677\n",
      "Index(['music', 'die', 'dance', 'hair', 'rock', 'clothes', 'shopping',\n",
      "       'kissed', 'cute', 'hot', 'mall', 'band', 'drugs', 'church', 'god',\n",
      "       'dress', 'sexy', 'death', 'sex', 'baseball', 'basketball', 'drunk',\n",
      "       'bible', 'football', 'sports', 'swimming', 'hollister', 'marching',\n",
      "       'abercrombie', 'jesus', 'cheerleading', 'softball', 'volleyball',\n",
      "       'soccer', 'tennis', 'blonde'],\n",
      "      dtype='object')\n",
      "4 claster size 1708\n",
      "Index(['bible', 'baseball', 'marching', 'hot', 'volleyball', 'tennis',\n",
      "       'softball', 'soccer', 'jesus', 'cheerleading', 'basketball', 'swimming',\n",
      "       'blonde', 'dance', 'football', 'die', 'band', 'death', 'sports',\n",
      "       'hollister', 'dress', 'abercrombie', 'god', 'shopping', 'drunk', 'rock',\n",
      "       'mall', 'drugs', 'cute', 'music', 'sex', 'clothes', 'church', 'kissed',\n",
      "       'sexy', 'hair'],\n",
      "      dtype='object')\n",
      "5 claster size 431\n",
      "Index(['sexy', 'mall', 'softball', 'abercrombie', 'hollister', 'baseball',\n",
      "       'dance', 'blonde', 'football', 'hot', 'sports', 'cheerleading',\n",
      "       'marching', 'tennis', 'shopping', 'volleyball', 'dress', 'clothes',\n",
      "       'cute', 'die', 'soccer', 'drunk', 'swimming', 'death', 'rock', 'hair',\n",
      "       'basketball', 'kissed', 'drugs', 'sex', 'music', 'band', 'jesus', 'god',\n",
      "       'church', 'bible'],\n",
      "      dtype='object')\n",
      "6 claster size 2593\n",
      "Index(['bible', 'baseball', 'sexy', 'hot', 'music', 'football', 'basketball',\n",
      "       'church', 'dance', 'marching', 'tennis', 'volleyball', 'abercrombie',\n",
      "       'sports', 'band', 'shopping', 'blonde', 'softball', 'hollister',\n",
      "       'soccer', 'jesus', 'cheerleading', 'swimming', 'rock', 'dress',\n",
      "       'clothes', 'mall', 'cute', 'sex', 'god', 'kissed', 'hair', 'drunk',\n",
      "       'death', 'drugs', 'die'],\n",
      "      dtype='object')\n",
      "7 claster size 35\n",
      "Index(['sexy', 'sports', 'hollister', 'football', 'clothes', 'cheerleading',\n",
      "       'tennis', 'kissed', 'cute', 'hair', 'baseball', 'soccer', 'sex',\n",
      "       'drunk', 'mall', 'music', 'dress', 'abercrombie', 'blonde', 'softball',\n",
      "       'shopping', 'volleyball', 'hot', 'dance', 'basketball', 'band',\n",
      "       'swimming', 'drugs', 'marching', 'die', 'rock', 'death', 'church',\n",
      "       'bible', 'god', 'jesus'],\n",
      "      dtype='object')\n",
      "8 claster size 535\n",
      "Index(['bible', 'jesus', 'marching', 'baseball', 'band', 'blonde', 'god',\n",
      "       'church', 'drugs', 'die', 'tennis', 'death', 'soccer', 'basketball',\n",
      "       'music', 'sports', 'drunk', 'sex', 'volleyball', 'kissed', 'swimming',\n",
      "       'softball', 'rock', 'dress', 'football', 'cheerleading', 'abercrombie',\n",
      "       'dance', 'hollister', 'sexy', 'shopping', 'hair', 'clothes', 'mall',\n",
      "       'cute', 'hot'],\n",
      "      dtype='object')\n",
      "9 claster size 31\n",
      "Index(['hair', 'dress', 'soccer', 'marching', 'mall', 'shopping', 'drugs',\n",
      "       'cute', 'dance', 'tennis', 'softball', 'blonde', 'volleyball', 'kissed',\n",
      "       'abercrombie', 'band', 'basketball', 'hollister', 'sexy', 'football',\n",
      "       'cheerleading', 'rock', 'hot', 'swimming', 'drunk', 'sex', 'clothes',\n",
      "       'baseball', 'sports', 'music', 'die', 'church', 'death', 'jesus',\n",
      "       'bible', 'god'],\n",
      "      dtype='object')\n",
      "Wall time: 1.34 s\n"
     ]
    }
   ],
   "source": [
    "%%time\n",
    "## MyKMeans++\n",
    "clf = MyKmeans(k=k, init='k-means')\n",
    "clf.fit(X.values)\n",
    "y_pred = clf.predict(X.values)\n",
    "\n",
    "for i, centr in enumerate(clf.centroids):\n",
    "    print(i+1, 'claster', 'size', clf.labels[clf.labels == i].size)\n",
    "    print(X.columns[np.argsort(centr)][:])"
   ]
  },
  {
   "cell_type": "code",
   "execution_count": 281,
   "metadata": {},
   "outputs": [
    {
     "name": "stdout",
     "output_type": "stream",
     "text": [
      "1 claster size 1895\n",
      "Index(['tennis', 'soccer', 'drugs', 'sports', 'marching', 'hair', 'football',\n",
      "       'bible', 'blonde', 'kissed', 'swimming', 'abercrombie', 'rock', 'sex',\n",
      "       'death', 'drunk', 'basketball', 'baseball', 'music', 'die', 'sexy',\n",
      "       'cheerleading', 'mall', 'volleyball', 'band', 'softball', 'clothes',\n",
      "       'god', 'hollister', 'dress', 'dance', 'shopping', 'jesus', 'cute',\n",
      "       'hot', 'church'],\n",
      "      dtype='object')\n",
      "2 claster size 3062\n",
      "Index(['football', 'clothes', 'hair', 'shopping', 'cheerleading', 'cute',\n",
      "       'swimming', 'kissed', 'drunk', 'church', 'tennis', 'hot', 'sexy', 'god',\n",
      "       'mall', 'dance', 'abercrombie', 'music', 'jesus', 'die', 'sex',\n",
      "       'hollister', 'drugs', 'band', 'bible', 'blonde', 'baseball', 'death',\n",
      "       'dress', 'basketball', 'sports', 'marching', 'volleyball', 'softball',\n",
      "       'soccer', 'rock'],\n",
      "      dtype='object')\n",
      "3 claster size 476\n",
      "Index(['softball', 'clothes', 'sex', 'marching', 'dress', 'god', 'drunk',\n",
      "       'hair', 'band', 'jesus', 'abercrombie', 'blonde', 'volleyball', 'die',\n",
      "       'cute', 'death', 'cheerleading', 'music', 'kissed', 'sexy', 'swimming',\n",
      "       'bible', 'rock', 'hot', 'baseball', 'mall', 'hollister', 'dance',\n",
      "       'church', 'drugs', 'basketball', 'tennis', 'sports', 'shopping',\n",
      "       'football', 'soccer'],\n",
      "      dtype='object')\n",
      "4 claster size 221\n",
      "Index(['volleyball', 'cheerleading', 'marching', 'soccer', 'church', 'dress',\n",
      "       'drugs', 'blonde', 'tennis', 'sexy', 'baseball', 'basketball',\n",
      "       'swimming', 'abercrombie', 'hot', 'softball', 'band', 'mall', 'clothes',\n",
      "       'shopping', 'sex', 'football', 'die', 'drunk', 'jesus', 'bible',\n",
      "       'sports', 'dance', 'cute', 'hollister', 'god', 'kissed', 'death',\n",
      "       'hair', 'music', 'rock'],\n",
      "      dtype='object')\n",
      "5 claster size 1676\n",
      "Index(['rock', 'soccer', 'jesus', 'tennis', 'bible', 'band', 'marching',\n",
      "       'baseball', 'hot', 'cheerleading', 'swimming', 'church', 'death',\n",
      "       'sports', 'clothes', 'sexy', 'blonde', 'god', 'music', 'football',\n",
      "       'basketball', 'kissed', 'sex', 'cute', 'dress', 'softball', 'die',\n",
      "       'drunk', 'drugs', 'hollister', 'shopping', 'abercrombie', 'dance',\n",
      "       'volleyball', 'mall', 'hair'],\n",
      "      dtype='object')\n",
      "6 claster size 1338\n",
      "Index(['drugs', 'soccer', 'cute', 'rock', 'die', 'jesus', 'blonde',\n",
      "       'volleyball', 'death', 'church', 'bible', 'god', 'sexy', 'cheerleading',\n",
      "       'drunk', 'football', 'clothes', 'hair', 'dress', 'hot', 'sex', 'music',\n",
      "       'tennis', 'sports', 'marching', 'softball', 'abercrombie', 'basketball',\n",
      "       'baseball', 'dance', 'mall', 'shopping', 'kissed', 'band', 'hollister',\n",
      "       'swimming'],\n",
      "      dtype='object')\n",
      "7 claster size 2886\n",
      "Index(['swimming', 'hot', 'mall', 'hair', 'jesus', 'hollister', 'abercrombie',\n",
      "       'soccer', 'drugs', 'clothes', 'die', 'sexy', 'kissed', 'church',\n",
      "       'softball', 'sex', 'blonde', 'god', 'volleyball', 'drunk', 'marching',\n",
      "       'cheerleading', 'shopping', 'basketball', 'band', 'bible', 'cute',\n",
      "       'sports', 'rock', 'death', 'dress', 'dance', 'baseball', 'tennis',\n",
      "       'music', 'football'],\n",
      "      dtype='object')\n",
      "8 claster size 17603\n",
      "Index(['rock', 'music', 'hair', 'football', 'cute', 'dance', 'hot', 'mall',\n",
      "       'soccer', 'dress', 'drugs', 'god', 'swimming', 'clothes', 'jesus',\n",
      "       'band', 'kissed', 'church', 'basketball', 'sex', 'softball', 'sports',\n",
      "       'die', 'death', 'hollister', 'sexy', 'volleyball', 'shopping', 'drunk',\n",
      "       'abercrombie', 'cheerleading', 'tennis', 'marching', 'bible',\n",
      "       'baseball', 'blonde'],\n",
      "      dtype='object')\n",
      "9 claster size 843\n",
      "Index(['tennis', 'bible', 'jesus', 'cheerleading', 'marching', 'soccer',\n",
      "       'abercrombie', 'football', 'volleyball', 'hot', 'god', 'church',\n",
      "       'blonde', 'sports', 'baseball', 'softball', 'basketball', 'mall',\n",
      "       'dance', 'band', 'swimming', 'drunk', 'rock', 'sexy', 'cute', 'music',\n",
      "       'death', 'hollister', 'dress', 'die', 'shopping', 'drugs', 'hair',\n",
      "       'sex', 'kissed', 'clothes'],\n",
      "      dtype='object')\n",
      "Wall time: 273 ms\n"
     ]
    }
   ],
   "source": [
    "%%time\n",
    "## MyKMeans с MiniBatchMyKMeans\n",
    "clf = MiniBatchKMeans(k=k, batch_size=batch_size)\n",
    "clf.fit(X.values)\n",
    "y_pred = clf.predict(X.values)\n",
    "\n",
    "for i, centr in enumerate(clf.centroids):\n",
    "    print(i+1, 'claster', 'size', clf.labels[clf.labels == i].size)\n",
    "    print(X.columns[np.argsort(centr)][:])"
   ]
  },
  {
   "cell_type": "code",
   "execution_count": 288,
   "metadata": {},
   "outputs": [
    {
     "name": "stdout",
     "output_type": "stream",
     "text": [
      "1 claster size 370\n",
      "Index(['rock', 'band', 'dress', 'music', 'volleyball', 'cheerleading',\n",
      "       'hollister', 'sex', 'abercrombie', 'dance', 'tennis', 'marching',\n",
      "       'soccer', 'clothes', 'softball', 'sexy', 'mall', 'die', 'blonde', 'god',\n",
      "       'shopping', 'drugs', 'kissed', 'death', 'drunk', 'cute', 'hot', 'bible',\n",
      "       'church', 'hair', 'swimming', 'basketball', 'jesus', 'sports',\n",
      "       'football', 'baseball'],\n",
      "      dtype='object')\n",
      "2 claster size 1372\n",
      "Index(['dress', 'jesus', 'hot', 'hollister', 'dance', 'softball', 'drugs',\n",
      "       'abercrombie', 'cute', 'church', 'marching', 'mall', 'volleyball',\n",
      "       'cheerleading', 'bible', 'clothes', 'basketball', 'death', 'shopping',\n",
      "       'soccer', 'god', 'blonde', 'sexy', 'drunk', 'football', 'tennis',\n",
      "       'hair', 'baseball', 'band', 'kissed', 'die', 'sex', 'swimming', 'music',\n",
      "       'sports', 'rock'],\n",
      "      dtype='object')\n",
      "3 claster size 518\n",
      "Index(['football', 'church', 'hair', 'dance', 'cute', 'band', 'drunk',\n",
      "       'shopping', 'cheerleading', 'kissed', 'hollister', 'jesus', 'music',\n",
      "       'sex', 'abercrombie', 'drugs', 'tennis', 'marching', 'die', 'bible',\n",
      "       'clothes', 'rock', 'hot', 'death', 'dress', 'blonde', 'sexy',\n",
      "       'baseball', 'soccer', 'volleyball', 'swimming', 'mall', 'sports', 'god',\n",
      "       'basketball', 'softball'],\n",
      "      dtype='object')\n",
      "4 claster size 823\n",
      "Index(['softball', 'swimming', 'marching', 'dress', 'band', 'jesus', 'bible',\n",
      "       'basketball', 'soccer', 'tennis', 'volleyball', 'baseball', 'god',\n",
      "       'blonde', 'death', 'sex', 'hollister', 'kissed', 'clothes', 'rock',\n",
      "       'abercrombie', 'church', 'shopping', 'dance', 'sports', 'football',\n",
      "       'cute', 'mall', 'music', 'cheerleading', 'die', 'hair', 'drugs', 'sexy',\n",
      "       'hot', 'drunk'],\n",
      "      dtype='object')\n",
      "5 claster size 16192\n",
      "Index(['shopping', 'music', 'hair', 'cute', 'basketball', 'football', 'mall',\n",
      "       'clothes', 'dance', 'rock', 'dress', 'church', 'god', 'swimming',\n",
      "       'sports', 'death', 'hot', 'band', 'kissed', 'drunk', 'soccer', 'die',\n",
      "       'sexy', 'volleyball', 'cheerleading', 'jesus', 'baseball', 'drugs',\n",
      "       'hollister', 'abercrombie', 'softball', 'sex', 'marching', 'tennis',\n",
      "       'bible', 'blonde'],\n",
      "      dtype='object')\n",
      "6 claster size 78\n",
      "Index(['god', 'clothes', 'church', 'sports', 'die', 'sexy', 'death',\n",
      "       'swimming', 'soccer', 'volleyball', 'drunk', 'softball', 'cheerleading',\n",
      "       'kissed', 'hollister', 'baseball', 'jesus', 'sex', 'abercrombie',\n",
      "       'drugs', 'tennis', 'marching', 'bible', 'blonde', 'band', 'music',\n",
      "       'football', 'rock', 'hair', 'cute', 'hot', 'shopping', 'basketball',\n",
      "       'dance', 'mall', 'dress'],\n",
      "      dtype='object')\n",
      "7 claster size 257\n",
      "Index(['swimming', 'basketball', 'church', 'jesus', 'hot', 'volleyball',\n",
      "       'mall', 'blonde', 'soccer', 'band', 'softball', 'marching', 'dance',\n",
      "       'tennis', 'cute', 'baseball', 'football', 'sports', 'shopping',\n",
      "       'clothes', 'cheerleading', 'god', 'rock', 'hollister', 'bible', 'sexy',\n",
      "       'dress', 'death', 'music', 'drunk', 'die', 'hair', 'drugs',\n",
      "       'abercrombie', 'kissed', 'sex'],\n",
      "      dtype='object')\n",
      "8 claster size 919\n",
      "Index(['marching', 'baseball', 'kissed', 'tennis', 'rock', 'blonde', 'band',\n",
      "       'soccer', 'church', 'drugs', 'jesus', 'death', 'music', 'sexy', 'dance',\n",
      "       'sex', 'drunk', 'softball', 'basketball', 'abercrombie', 'bible',\n",
      "       'swimming', 'die', 'hot', 'god', 'cheerleading', 'dress', 'sports',\n",
      "       'football', 'hair', 'shopping', 'cute', 'hollister', 'clothes', 'mall',\n",
      "       'volleyball'],\n",
      "      dtype='object')\n",
      "9 claster size 9471\n",
      "Index(['sports', 'rock', 'volleyball', 'sexy', 'kissed', 'dress', 'blonde',\n",
      "       'softball', 'baseball', 'hot', 'sex', 'drunk', 'abercrombie', 'jesus',\n",
      "       'death', 'tennis', 'clothes', 'hollister', 'football', 'drugs',\n",
      "       'church', 'hair', 'god', 'dance', 'bible', 'marching', 'music', 'band',\n",
      "       'soccer', 'basketball', 'shopping', 'cute', 'die', 'swimming', 'mall',\n",
      "       'cheerleading'],\n",
      "      dtype='object')\n",
      "Wall time: 1.14 s\n"
     ]
    }
   ],
   "source": [
    "%%time\n",
    "## MyKMeans++ с MiniBatchMyKMeans\n",
    "clf = MiniBatchKMeans(k=k, batch_size=batch_size, init='k-means')\n",
    "clf.fit(X.values)\n",
    "y_pred = clf.predict(X.values)\n",
    "\n",
    "for i, centr in enumerate(clf.centroids):\n",
    "    print(i+1, 'claster', 'size', clf.labels[clf.labels == i].size)\n",
    "    print(X.columns[np.argsort(centr)][:])"
   ]
  },
  {
   "cell_type": "code",
   "execution_count": 289,
   "metadata": {},
   "outputs": [],
   "source": [
    "## Вывод\n",
    "# При проверке на простых данных все методы показали более менее одинаковую точность. Самым долгим по времени, очевидно,\n",
    "# оказался kmeans++, однако значительно лучших результатов он не показал.\n",
    "#\n",
    "# На sns датасете kmeans++ значительно дольше работает, поэтому на больших данных, на мой взгляд предпочтительнее использовать \n",
    "# kmeans с MiniBatch т.к. ощутимой потери точности не наблюдается.\n",
    "#\n",
    "# Таким образом, предпочтение отдается алгоритму MiniBatch, однако на маленьких датасетах лучше использовать kmeans++."
   ]
  },
  {
   "cell_type": "code",
   "execution_count": null,
   "metadata": {},
   "outputs": [],
   "source": []
  }
 ],
 "metadata": {
  "anaconda-cloud": {},
  "kernelspec": {
   "display_name": "Python 3",
   "language": "python",
   "name": "python3"
  },
  "nav_menu": {},
  "toc": {
   "navigate_menu": true,
   "number_sections": false,
   "sideBar": true,
   "threshold": 6,
   "toc_cell": false,
   "toc_section_display": "block",
   "toc_window_display": true
  }
 },
 "nbformat": 4,
 "nbformat_minor": 2
}
